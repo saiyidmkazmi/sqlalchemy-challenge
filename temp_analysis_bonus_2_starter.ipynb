{
 "cells": [
  {
   "cell_type": "code",
   "execution_count": 1,
   "source": [
    "%matplotlib inline\r\n",
    "from matplotlib import style\r\n",
    "style.use('fivethirtyeight')\r\n",
    "import matplotlib.pyplot as plt"
   ],
   "outputs": [],
   "metadata": {}
  },
  {
   "cell_type": "code",
   "execution_count": 2,
   "source": [
    "import numpy as np\r\n",
    "import pandas as pd\r\n",
    "from datetime import datetime as dt\r\n",
    "from datetime import timedelta \r\n",
    "from time import gmtime, strftime"
   ],
   "outputs": [],
   "metadata": {}
  },
  {
   "cell_type": "markdown",
   "source": [
    "## Reflect Tables into SQLALchemy ORM"
   ],
   "metadata": {}
  },
  {
   "cell_type": "code",
   "execution_count": 3,
   "source": [
    "# Python SQL toolkit and Object Relational Mapper\r\n",
    "import sqlalchemy\r\n",
    "from sqlalchemy.ext.automap import automap_base\r\n",
    "from sqlalchemy.orm import Session\r\n",
    "from sqlalchemy import create_engine, func, inspect"
   ],
   "outputs": [],
   "metadata": {}
  },
  {
   "cell_type": "code",
   "execution_count": 4,
   "source": [
    "# create engine to hawaii.sqlite\r\n",
    "engine = create_engine(\"sqlite:///Resources/hawaii.sqlite\")"
   ],
   "outputs": [],
   "metadata": {}
  },
  {
   "cell_type": "code",
   "execution_count": 5,
   "source": [
    "# reflect an existing database into a new model\r\n",
    "Base = automap_base()\r\n",
    "Base.prepare(engine, reflect=True)\r\n",
    "Base.classes.keys()\r\n",
    "\r\n",
    "# reflect the tables\r\n",
    "inspector = inspect(engine)\r\n",
    "inspector.get_table_names()\r\n",
    "\r\n",
    "# View all of the classes that automap found\r\n"
   ],
   "outputs": [
    {
     "output_type": "execute_result",
     "data": {
      "text/plain": [
       "['measurement', 'station']"
      ]
     },
     "metadata": {},
     "execution_count": 5
    }
   ],
   "metadata": {}
  },
  {
   "cell_type": "code",
   "execution_count": 6,
   "source": [
    "# Save references to each table\r\n",
    "\r\n",
    "Station= Base.classes.station\r\n",
    "Measurement= Base.classes.measurement"
   ],
   "outputs": [],
   "metadata": {}
  },
  {
   "cell_type": "code",
   "execution_count": 7,
   "source": [
    "# Create our session (link) from Python to the DB\r\n",
    "session = Session(engine)"
   ],
   "outputs": [],
   "metadata": {}
  },
  {
   "cell_type": "code",
   "execution_count": 8,
   "source": [
    "# Display the row's columns and data in dictionary format\r\n",
    "first_row = session.query(Station).first()\r\n",
    "first_row.__dict__"
   ],
   "outputs": [
    {
     "output_type": "execute_result",
     "data": {
      "text/plain": [
       "{'_sa_instance_state': <sqlalchemy.orm.state.InstanceState at 0x7fbab80c1820>,\n",
       " 'longitude': -157.8168,\n",
       " 'latitude': 21.2716,\n",
       " 'station': 'USC00519397',\n",
       " 'elevation': 3.0,\n",
       " 'name': 'WAIKIKI 717.2, HI US',\n",
       " 'id': 1}"
      ]
     },
     "metadata": {},
     "execution_count": 8
    }
   ],
   "metadata": {}
  },
  {
   "cell_type": "code",
   "execution_count": 9,
   "source": [
    "# Display the row's columns and data in dictionary format\r\n",
    "first_row = session.query(Measurement).first()\r\n",
    "first_row.__dict__"
   ],
   "outputs": [
    {
     "output_type": "execute_result",
     "data": {
      "text/plain": [
       "{'_sa_instance_state': <sqlalchemy.orm.state.InstanceState at 0x7fbaf01b8be0>,\n",
       " 'id': 1,\n",
       " 'date': '2010-01-01',\n",
       " 'station': 'USC00519397',\n",
       " 'prcp': 0.08,\n",
       " 'tobs': 65.0}"
      ]
     },
     "metadata": {},
     "execution_count": 9
    }
   ],
   "metadata": {}
  },
  {
   "cell_type": "markdown",
   "source": [
    "## Bonus Challenge Assignment: Temperature Analysis II"
   ],
   "metadata": {}
  },
  {
   "cell_type": "code",
   "execution_count": 10,
   "source": [
    "# This function called `calc_temps` will accept start date and end date in the format '%Y-%m-%d' \n",
    "# and return the minimum, maximum, and average temperatures for that range of dates\n",
    "def calc_temps(start_date, end_date):\n",
    "    \"\"\"TMIN, TAVG, and TMAX for a list of dates.\n",
    "    \n",
    "    Args:\n",
    "        start_date (string): A date string in the format %Y-%m-%d\n",
    "        end_date (string): A date string in the format %Y-%m-%d\n",
    "        \n",
    "    Returns:\n",
    "        TMIN, TAVE, and TMAX\n",
    "    \"\"\"\n",
    "    \n",
    "    return session.query(func.min(Measurement.tobs), func.avg(Measurement.tobs), func.max(Measurement.tobs)).\\\n",
    "        filter(Measurement.date >= start_date).filter(Measurement.date <= end_date).all()\n",
    "\n",
    "# For example\n",
    "print(calc_temps('2012-02-28', '2012-03-05'))"
   ],
   "outputs": [
    {
     "output_type": "stream",
     "name": "stdout",
     "text": [
      "[(62.0, 69.57142857142857, 74.0)]\n"
     ]
    }
   ],
   "metadata": {}
  },
  {
   "cell_type": "code",
   "execution_count": 11,
   "source": [
    "# Use the function `calc_temps` to calculate the tmin, tavg, and tmax \n",
    "# for a year in the data set\n",
    "temp_of_2012 = calc_temps('2012-01-01', '2012-12-31')[0]\n",
    "print(temp_of_2012)"
   ],
   "outputs": [
    {
     "output_type": "stream",
     "name": "stdout",
     "text": [
      "(56.0, 72.26401515151515, 86.0)\n"
     ]
    }
   ],
   "metadata": {}
  },
  {
   "cell_type": "code",
   "execution_count": 12,
   "source": [
    "# Plot the results from your previous query as a bar chart. \n",
    "# Use \"Trip Avg Temp\" as your Title\n",
    "# Use the average temperature for bar height (y value)\n",
    "# Use the peak-to-peak (tmax-tmin) value as the y error bar (yerr)\n",
    "\n",
    "plt.figure(num=None, figsize=(6,7), dpi=None,                   \n",
    "           facecolor=None, edgecolor=None, frameon=True)\n",
    "# Fot x axis\n",
    "x_axis = 'Average\\nTemperature'                                 \n",
    "# Fot y axis\n",
    "y_axis = temp_of_2012[1]                                        \n",
    "# To plot bar chart \n",
    "plt.bar(x_axis, y_axis, label='Average temperatures',           \n",
    "        width=.5, yerr=(temp_of_2012[0]-temp_of_2012[2]))       \n",
    "\n",
    "plt.xlim(-.5, .5)                                               \n",
    "\n",
    "plt.title(\"Trip Average\\nTemperature\", fontsize='x-large',      \n",
    "           loc='center', pad=20)\n",
    "\n",
    "plt.ylabel(\"Temperature\",                         \n",
    "           fontsize='large', labelpad=10)\n",
    "\n",
    "plt.savefig(\"output_figures/average_trip_temperature.png\",    \n",
    "            transparent=False)\n",
    "plt.show()\n",
    "\n"
   ],
   "outputs": [
    {
     "output_type": "display_data",
     "data": {
      "text/plain": [
       "<Figure size 432x504 with 1 Axes>"
      ],
      "image/png": "[encoded data removed]"
     },
     "metadata": {}
    }
   ],
   "metadata": {}
  },
  {
   "cell_type": "code",
   "execution_count": null,
   "source": [],
   "outputs": [],
   "metadata": {}
  },
  {
   "cell_type": "markdown",
   "source": [
    "### Daily Rainfall Average"
   ],
   "metadata": {}
  },
  {
   "cell_type": "code",
   "execution_count": 13,
   "source": [
    "# Calculate the total amount of rainfall per weather station for your \n",
    "# trip dates using the previous year's matching dates.\n",
    "\n",
    "# Setting trip dates\n",
    "start_date_trip= '2012-01-01'\n",
    "end_date_trip= '2012-01-20'\n",
    "\n",
    "# Sort this in descending order by precipitation amount and list \n",
    "# the station, name, latitude, longitude, and elevation\n",
    "\n",
    "# Query Joining tables and ordering in descending order\n",
    "calc_weather = session.query(Station.id, Station.station, Station.latitude,\\\n",
    "            Station.longitude, Station.elevation, func.sum(Measurement.prcp)).\\\n",
    "            filter(Measurement.station== Station.station).\\\n",
    "            filter(Measurement.date>=start_date_trip, Measurement.date<=end_date_trip).\\\n",
    "            group_by(Measurement.station).order_by(func.sum(Measurement.prcp).desc()).statement\n",
    "\n",
    "# Create the dataframe and clean up column names\n",
    "pcrp_per_station = pd.read_sql_query(calc_weather, session.bind).\\\n",
    "    rename(columns={'id' : 'Station ID', 'station' : 'Station Name', \n",
    "                    'latitude' : 'Latitude', 'longitude' : 'Longitude', \n",
    "                    'elevation' : 'Elevation', 'sum_1': 'Total_Rainfall'})\n",
    "pcrp_per_station"
   ],
   "outputs": [
    {
     "output_type": "execute_result",
     "data": {
      "text/plain": [
       "   Station ID Station Name  Latitude  Longitude  Elevation  Total_Rainfall\n",
       "0           5  USC00518838  21.49920 -158.01110      306.6            1.73\n",
       "1           7  USC00519281  21.45167 -157.84889       32.9            0.91\n",
       "2           9  USC00516128  21.33310 -157.80250      152.4            0.77\n",
       "3           3  USC00514830  21.52130 -157.83740        7.0            0.59\n",
       "4           2  USC00513117  21.42340 -157.80150       14.6            0.43\n",
       "5           6  USC00519523  21.33556 -157.71139       19.5            0.28\n",
       "6           1  USC00519397  21.27160 -157.81680        3.0            0.06\n",
       "7           8  USC00511918  21.31520 -157.99920        0.9            0.02\n",
       "8           4  USC00517948  21.39340 -157.97510       11.9            0.00"
      ],
      "text/html": [
       "<div>\n",
       "<style scoped>\n",
       "    .dataframe tbody tr th:only-of-type {\n",
       "        vertical-align: middle;\n",
       "    }\n",
       "\n",
       "    .dataframe tbody tr th {\n",
       "        vertical-align: top;\n",
       "    }\n",
       "\n",
       "    .dataframe thead th {\n",
       "        text-align: right;\n",
       "    }\n",
       "</style>\n",
       "<table border=\"1\" class=\"dataframe\">\n",
       "  <thead>\n",
       "    <tr style=\"text-align: right;\">\n",
       "      <th></th>\n",
       "      <th>Station ID</th>\n",
       "      <th>Station Name</th>\n",
       "      <th>Latitude</th>\n",
       "      <th>Longitude</th>\n",
       "      <th>Elevation</th>\n",
       "      <th>Total_Rainfall</th>\n",
       "    </tr>\n",
       "  </thead>\n",
       "  <tbody>\n",
       "    <tr>\n",
       "      <th>0</th>\n",
       "      <td>5</td>\n",
       "      <td>USC00518838</td>\n",
       "      <td>21.49920</td>\n",
       "      <td>-158.01110</td>\n",
       "      <td>306.6</td>\n",
       "      <td>1.73</td>\n",
       "    </tr>\n",
       "    <tr>\n",
       "      <th>1</th>\n",
       "      <td>7</td>\n",
       "      <td>USC00519281</td>\n",
       "      <td>21.45167</td>\n",
       "      <td>-157.84889</td>\n",
       "      <td>32.9</td>\n",
       "      <td>0.91</td>\n",
       "    </tr>\n",
       "    <tr>\n",
       "      <th>2</th>\n",
       "      <td>9</td>\n",
       "      <td>USC00516128</td>\n",
       "      <td>21.33310</td>\n",
       "      <td>-157.80250</td>\n",
       "      <td>152.4</td>\n",
       "      <td>0.77</td>\n",
       "    </tr>\n",
       "    <tr>\n",
       "      <th>3</th>\n",
       "      <td>3</td>\n",
       "      <td>USC00514830</td>\n",
       "      <td>21.52130</td>\n",
       "      <td>-157.83740</td>\n",
       "      <td>7.0</td>\n",
       "      <td>0.59</td>\n",
       "    </tr>\n",
       "    <tr>\n",
       "      <th>4</th>\n",
       "      <td>2</td>\n",
       "      <td>USC00513117</td>\n",
       "      <td>21.42340</td>\n",
       "      <td>-157.80150</td>\n",
       "      <td>14.6</td>\n",
       "      <td>0.43</td>\n",
       "    </tr>\n",
       "    <tr>\n",
       "      <th>5</th>\n",
       "      <td>6</td>\n",
       "      <td>USC00519523</td>\n",
       "      <td>21.33556</td>\n",
       "      <td>-157.71139</td>\n",
       "      <td>19.5</td>\n",
       "      <td>0.28</td>\n",
       "    </tr>\n",
       "    <tr>\n",
       "      <th>6</th>\n",
       "      <td>1</td>\n",
       "      <td>USC00519397</td>\n",
       "      <td>21.27160</td>\n",
       "      <td>-157.81680</td>\n",
       "      <td>3.0</td>\n",
       "      <td>0.06</td>\n",
       "    </tr>\n",
       "    <tr>\n",
       "      <th>7</th>\n",
       "      <td>8</td>\n",
       "      <td>USC00511918</td>\n",
       "      <td>21.31520</td>\n",
       "      <td>-157.99920</td>\n",
       "      <td>0.9</td>\n",
       "      <td>0.02</td>\n",
       "    </tr>\n",
       "    <tr>\n",
       "      <th>8</th>\n",
       "      <td>4</td>\n",
       "      <td>USC00517948</td>\n",
       "      <td>21.39340</td>\n",
       "      <td>-157.97510</td>\n",
       "      <td>11.9</td>\n",
       "      <td>0.00</td>\n",
       "    </tr>\n",
       "  </tbody>\n",
       "</table>\n",
       "</div>"
      ]
     },
     "metadata": {},
     "execution_count": 13
    }
   ],
   "metadata": {}
  },
  {
   "cell_type": "code",
   "execution_count": 14,
   "source": [
    "# Use this function to calculate the daily normals \n",
    "# (i.e. the averages for tmin, tmax, and tavg for all historic data matching a specific month and day)\n",
    "\n",
    "def daily_normals(date):\n",
    "    \"\"\"Daily Normals.\n",
    "    \n",
    "    Args:\n",
    "        date (str): A date string in the format '%m-%d'\n",
    "        \n",
    "    Returns:\n",
    "        A list of tuples containing the daily normals, tmin, tavg, and tmax\n",
    "    \n",
    "    \"\"\"\n",
    "    \n",
    "    sel = [func.min(Measurement.tobs), func.avg(Measurement.tobs), func.max(Measurement.tobs)]\n",
    "    return session.query(*sel).filter(func.strftime(\"%m-%d\", Measurement.date) == date).all()\n",
    "\n",
    "# For example\n",
    "daily_normals(\"01-01\")"
   ],
   "outputs": [
    {
     "output_type": "execute_result",
     "data": {
      "text/plain": [
       "[(62.0, 69.15384615384616, 77.0)]"
      ]
     },
     "metadata": {},
     "execution_count": 14
    }
   ],
   "metadata": {}
  },
  {
   "cell_type": "code",
   "execution_count": 15,
   "source": [
    "# calculate the daily normals for your trip\n",
    "# push each tuple of calculations into a list called `normals`\n",
    "\n",
    "# Set the start and end date of the trip\n",
    "start_date_trip= '2012-01-01'\n",
    "end_date_trip= '2012-01-20'\n",
    "\n",
    "# Use the start and end date to create a range of dates\n",
    "start_date_trip_range = dt.strptime(start_date_trip, '%Y-%m-%d')\n",
    "end_date_trip_range = dt.strptime(end_date_trip, '%Y-%m-%d')\n",
    "\n",
    "trip_range= end_date_trip_range-start_date_trip_range\n",
    "\n",
    "# Strip off the year and save a list of strings in the format %m-%d\n",
    "trip_range\n",
    "\n",
    "# Use the `daily_normals` function to calculate the normals for each date string \n",
    "# and append the results to a list called `normals`.\n",
    "\n",
    "# Creating list Normals\n",
    "normals= [['DATE', 'MIN TEMP', 'AVEG TEMP', 'MAX TEMP']]\n",
    "\n",
    "# Append to list with a loop\n",
    "\n",
    "for x in range(trip_range.days+1):\n",
    "    \n",
    "    date_for_trip= (start_date_trip_range + timedelta(days=x)).strftime(\"%m-%d\")\n",
    "    trip_dates= (start_date_trip_range+ timedelta(days=x)).strftime(\"%Y-%m-%d\")\n",
    "    \n",
    "    day_setting= list(daily_normals(date_for_trip)[0])\n",
    "    day_setting.insert(0, trip_dates)\n",
    "    normals.append(day_setting)\n",
    " "
   ],
   "outputs": [],
   "metadata": {}
  },
  {
   "cell_type": "code",
   "execution_count": 16,
   "source": [
    "normals"
   ],
   "outputs": [
    {
     "output_type": "execute_result",
     "data": {
      "text/plain": [
       "[['DATE', 'MIN TEMP', 'AVEG TEMP', 'MAX TEMP'],\n",
       " ['2012-01-01', 62.0, 69.15384615384616, 77.0],\n",
       " ['2012-01-02', 60.0, 69.39622641509433, 77.0],\n",
       " ['2012-01-03', 62.0, 68.9090909090909, 77.0],\n",
       " ['2012-01-04', 58.0, 70.0, 76.0],\n",
       " ['2012-01-05', 56.0, 67.96428571428571, 76.0],\n",
       " ['2012-01-06', 61.0, 68.96491228070175, 76.0],\n",
       " ['2012-01-07', 57.0, 68.54385964912281, 76.0],\n",
       " ['2012-01-08', 57.0, 67.16071428571429, 75.0],\n",
       " ['2012-01-09', 58.0, 67.9298245614035, 78.0],\n",
       " ['2012-01-10', 62.0, 69.74137931034483, 77.0],\n",
       " ['2012-01-11', 57.0, 67.3103448275862, 78.0],\n",
       " ['2012-01-12', 57.0, 67.4074074074074, 81.0],\n",
       " ['2012-01-13', 57.0, 67.25454545454545, 77.0],\n",
       " ['2012-01-14', 58.0, 69.52631578947368, 77.0],\n",
       " ['2012-01-15', 56.0, 69.31372549019608, 78.0],\n",
       " ['2012-01-16', 54.0, 68.62962962962963, 80.0],\n",
       " ['2012-01-17', 61.0, 69.07407407407408, 76.0],\n",
       " ['2012-01-18', 57.0, 68.63157894736842, 77.0],\n",
       " ['2012-01-19', 60.0, 68.26315789473684, 78.0],\n",
       " ['2012-01-20', 61.0, 68.86666666666666, 78.0]]"
      ]
     },
     "metadata": {},
     "execution_count": 16
    }
   ],
   "metadata": {}
  },
  {
   "cell_type": "code",
   "execution_count": 17,
   "source": [
    "# Load the previous query results into a Pandas DataFrame and add the `trip_dates` range as the `date` index\n",
    "pd_trip= pd.DataFrame(normals[1:], columns= normals[0])\n",
    "\n",
    "pd_trip"
   ],
   "outputs": [
    {
     "output_type": "execute_result",
     "data": {
      "text/plain": [
       "          DATE  MIN TEMP  AVEG TEMP  MAX TEMP\n",
       "0   2012-01-01      62.0  69.153846      77.0\n",
       "1   2012-01-02      60.0  69.396226      77.0\n",
       "2   2012-01-03      62.0  68.909091      77.0\n",
       "3   2012-01-04      58.0  70.000000      76.0\n",
       "4   2012-01-05      56.0  67.964286      76.0\n",
       "5   2012-01-06      61.0  68.964912      76.0\n",
       "6   2012-01-07      57.0  68.543860      76.0\n",
       "7   2012-01-08      57.0  67.160714      75.0\n",
       "8   2012-01-09      58.0  67.929825      78.0\n",
       "9   2012-01-10      62.0  69.741379      77.0\n",
       "10  2012-01-11      57.0  67.310345      78.0\n",
       "11  2012-01-12      57.0  67.407407      81.0\n",
       "12  2012-01-13      57.0  67.254545      77.0\n",
       "13  2012-01-14      58.0  69.526316      77.0\n",
       "14  2012-01-15      56.0  69.313725      78.0\n",
       "15  2012-01-16      54.0  68.629630      80.0\n",
       "16  2012-01-17      61.0  69.074074      76.0\n",
       "17  2012-01-18      57.0  68.631579      77.0\n",
       "18  2012-01-19      60.0  68.263158      78.0\n",
       "19  2012-01-20      61.0  68.866667      78.0"
      ],
      "text/html": [
       "<div>\n",
       "<style scoped>\n",
       "    .dataframe tbody tr th:only-of-type {\n",
       "        vertical-align: middle;\n",
       "    }\n",
       "\n",
       "    .dataframe tbody tr th {\n",
       "        vertical-align: top;\n",
       "    }\n",
       "\n",
       "    .dataframe thead th {\n",
       "        text-align: right;\n",
       "    }\n",
       "</style>\n",
       "<table border=\"1\" class=\"dataframe\">\n",
       "  <thead>\n",
       "    <tr style=\"text-align: right;\">\n",
       "      <th></th>\n",
       "      <th>DATE</th>\n",
       "      <th>MIN TEMP</th>\n",
       "      <th>AVEG TEMP</th>\n",
       "      <th>MAX TEMP</th>\n",
       "    </tr>\n",
       "  </thead>\n",
       "  <tbody>\n",
       "    <tr>\n",
       "      <th>0</th>\n",
       "      <td>2012-01-01</td>\n",
       "      <td>62.0</td>\n",
       "      <td>69.153846</td>\n",
       "      <td>77.0</td>\n",
       "    </tr>\n",
       "    <tr>\n",
       "      <th>1</th>\n",
       "      <td>2012-01-02</td>\n",
       "      <td>60.0</td>\n",
       "      <td>69.396226</td>\n",
       "      <td>77.0</td>\n",
       "    </tr>\n",
       "    <tr>\n",
       "      <th>2</th>\n",
       "      <td>2012-01-03</td>\n",
       "      <td>62.0</td>\n",
       "      <td>68.909091</td>\n",
       "      <td>77.0</td>\n",
       "    </tr>\n",
       "    <tr>\n",
       "      <th>3</th>\n",
       "      <td>2012-01-04</td>\n",
       "      <td>58.0</td>\n",
       "      <td>70.000000</td>\n",
       "      <td>76.0</td>\n",
       "    </tr>\n",
       "    <tr>\n",
       "      <th>4</th>\n",
       "      <td>2012-01-05</td>\n",
       "      <td>56.0</td>\n",
       "      <td>67.964286</td>\n",
       "      <td>76.0</td>\n",
       "    </tr>\n",
       "    <tr>\n",
       "      <th>5</th>\n",
       "      <td>2012-01-06</td>\n",
       "      <td>61.0</td>\n",
       "      <td>68.964912</td>\n",
       "      <td>76.0</td>\n",
       "    </tr>\n",
       "    <tr>\n",
       "      <th>6</th>\n",
       "      <td>2012-01-07</td>\n",
       "      <td>57.0</td>\n",
       "      <td>68.543860</td>\n",
       "      <td>76.0</td>\n",
       "    </tr>\n",
       "    <tr>\n",
       "      <th>7</th>\n",
       "      <td>2012-01-08</td>\n",
       "      <td>57.0</td>\n",
       "      <td>67.160714</td>\n",
       "      <td>75.0</td>\n",
       "    </tr>\n",
       "    <tr>\n",
       "      <th>8</th>\n",
       "      <td>2012-01-09</td>\n",
       "      <td>58.0</td>\n",
       "      <td>67.929825</td>\n",
       "      <td>78.0</td>\n",
       "    </tr>\n",
       "    <tr>\n",
       "      <th>9</th>\n",
       "      <td>2012-01-10</td>\n",
       "      <td>62.0</td>\n",
       "      <td>69.741379</td>\n",
       "      <td>77.0</td>\n",
       "    </tr>\n",
       "    <tr>\n",
       "      <th>10</th>\n",
       "      <td>2012-01-11</td>\n",
       "      <td>57.0</td>\n",
       "      <td>67.310345</td>\n",
       "      <td>78.0</td>\n",
       "    </tr>\n",
       "    <tr>\n",
       "      <th>11</th>\n",
       "      <td>2012-01-12</td>\n",
       "      <td>57.0</td>\n",
       "      <td>67.407407</td>\n",
       "      <td>81.0</td>\n",
       "    </tr>\n",
       "    <tr>\n",
       "      <th>12</th>\n",
       "      <td>2012-01-13</td>\n",
       "      <td>57.0</td>\n",
       "      <td>67.254545</td>\n",
       "      <td>77.0</td>\n",
       "    </tr>\n",
       "    <tr>\n",
       "      <th>13</th>\n",
       "      <td>2012-01-14</td>\n",
       "      <td>58.0</td>\n",
       "      <td>69.526316</td>\n",
       "      <td>77.0</td>\n",
       "    </tr>\n",
       "    <tr>\n",
       "      <th>14</th>\n",
       "      <td>2012-01-15</td>\n",
       "      <td>56.0</td>\n",
       "      <td>69.313725</td>\n",
       "      <td>78.0</td>\n",
       "    </tr>\n",
       "    <tr>\n",
       "      <th>15</th>\n",
       "      <td>2012-01-16</td>\n",
       "      <td>54.0</td>\n",
       "      <td>68.629630</td>\n",
       "      <td>80.0</td>\n",
       "    </tr>\n",
       "    <tr>\n",
       "      <th>16</th>\n",
       "      <td>2012-01-17</td>\n",
       "      <td>61.0</td>\n",
       "      <td>69.074074</td>\n",
       "      <td>76.0</td>\n",
       "    </tr>\n",
       "    <tr>\n",
       "      <th>17</th>\n",
       "      <td>2012-01-18</td>\n",
       "      <td>57.0</td>\n",
       "      <td>68.631579</td>\n",
       "      <td>77.0</td>\n",
       "    </tr>\n",
       "    <tr>\n",
       "      <th>18</th>\n",
       "      <td>2012-01-19</td>\n",
       "      <td>60.0</td>\n",
       "      <td>68.263158</td>\n",
       "      <td>78.0</td>\n",
       "    </tr>\n",
       "    <tr>\n",
       "      <th>19</th>\n",
       "      <td>2012-01-20</td>\n",
       "      <td>61.0</td>\n",
       "      <td>68.866667</td>\n",
       "      <td>78.0</td>\n",
       "    </tr>\n",
       "  </tbody>\n",
       "</table>\n",
       "</div>"
      ]
     },
     "metadata": {},
     "execution_count": 17
    }
   ],
   "metadata": {}
  },
  {
   "cell_type": "code",
   "execution_count": 18,
   "source": [
    "# Setting Date as index\n",
    "pd_trip.set_index('DATE', inplace=True, drop=True)\n",
    "pd_trip"
   ],
   "outputs": [
    {
     "output_type": "execute_result",
     "data": {
      "text/plain": [
       "            MIN TEMP  AVEG TEMP  MAX TEMP\n",
       "DATE                                     \n",
       "2012-01-01      62.0  69.153846      77.0\n",
       "2012-01-02      60.0  69.396226      77.0\n",
       "2012-01-03      62.0  68.909091      77.0\n",
       "2012-01-04      58.0  70.000000      76.0\n",
       "2012-01-05      56.0  67.964286      76.0\n",
       "2012-01-06      61.0  68.964912      76.0\n",
       "2012-01-07      57.0  68.543860      76.0\n",
       "2012-01-08      57.0  67.160714      75.0\n",
       "2012-01-09      58.0  67.929825      78.0\n",
       "2012-01-10      62.0  69.741379      77.0\n",
       "2012-01-11      57.0  67.310345      78.0\n",
       "2012-01-12      57.0  67.407407      81.0\n",
       "2012-01-13      57.0  67.254545      77.0\n",
       "2012-01-14      58.0  69.526316      77.0\n",
       "2012-01-15      56.0  69.313725      78.0\n",
       "2012-01-16      54.0  68.629630      80.0\n",
       "2012-01-17      61.0  69.074074      76.0\n",
       "2012-01-18      57.0  68.631579      77.0\n",
       "2012-01-19      60.0  68.263158      78.0\n",
       "2012-01-20      61.0  68.866667      78.0"
      ],
      "text/html": [
       "<div>\n",
       "<style scoped>\n",
       "    .dataframe tbody tr th:only-of-type {\n",
       "        vertical-align: middle;\n",
       "    }\n",
       "\n",
       "    .dataframe tbody tr th {\n",
       "        vertical-align: top;\n",
       "    }\n",
       "\n",
       "    .dataframe thead th {\n",
       "        text-align: right;\n",
       "    }\n",
       "</style>\n",
       "<table border=\"1\" class=\"dataframe\">\n",
       "  <thead>\n",
       "    <tr style=\"text-align: right;\">\n",
       "      <th></th>\n",
       "      <th>MIN TEMP</th>\n",
       "      <th>AVEG TEMP</th>\n",
       "      <th>MAX TEMP</th>\n",
       "    </tr>\n",
       "    <tr>\n",
       "      <th>DATE</th>\n",
       "      <th></th>\n",
       "      <th></th>\n",
       "      <th></th>\n",
       "    </tr>\n",
       "  </thead>\n",
       "  <tbody>\n",
       "    <tr>\n",
       "      <th>2012-01-01</th>\n",
       "      <td>62.0</td>\n",
       "      <td>69.153846</td>\n",
       "      <td>77.0</td>\n",
       "    </tr>\n",
       "    <tr>\n",
       "      <th>2012-01-02</th>\n",
       "      <td>60.0</td>\n",
       "      <td>69.396226</td>\n",
       "      <td>77.0</td>\n",
       "    </tr>\n",
       "    <tr>\n",
       "      <th>2012-01-03</th>\n",
       "      <td>62.0</td>\n",
       "      <td>68.909091</td>\n",
       "      <td>77.0</td>\n",
       "    </tr>\n",
       "    <tr>\n",
       "      <th>2012-01-04</th>\n",
       "      <td>58.0</td>\n",
       "      <td>70.000000</td>\n",
       "      <td>76.0</td>\n",
       "    </tr>\n",
       "    <tr>\n",
       "      <th>2012-01-05</th>\n",
       "      <td>56.0</td>\n",
       "      <td>67.964286</td>\n",
       "      <td>76.0</td>\n",
       "    </tr>\n",
       "    <tr>\n",
       "      <th>2012-01-06</th>\n",
       "      <td>61.0</td>\n",
       "      <td>68.964912</td>\n",
       "      <td>76.0</td>\n",
       "    </tr>\n",
       "    <tr>\n",
       "      <th>2012-01-07</th>\n",
       "      <td>57.0</td>\n",
       "      <td>68.543860</td>\n",
       "      <td>76.0</td>\n",
       "    </tr>\n",
       "    <tr>\n",
       "      <th>2012-01-08</th>\n",
       "      <td>57.0</td>\n",
       "      <td>67.160714</td>\n",
       "      <td>75.0</td>\n",
       "    </tr>\n",
       "    <tr>\n",
       "      <th>2012-01-09</th>\n",
       "      <td>58.0</td>\n",
       "      <td>67.929825</td>\n",
       "      <td>78.0</td>\n",
       "    </tr>\n",
       "    <tr>\n",
       "      <th>2012-01-10</th>\n",
       "      <td>62.0</td>\n",
       "      <td>69.741379</td>\n",
       "      <td>77.0</td>\n",
       "    </tr>\n",
       "    <tr>\n",
       "      <th>2012-01-11</th>\n",
       "      <td>57.0</td>\n",
       "      <td>67.310345</td>\n",
       "      <td>78.0</td>\n",
       "    </tr>\n",
       "    <tr>\n",
       "      <th>2012-01-12</th>\n",
       "      <td>57.0</td>\n",
       "      <td>67.407407</td>\n",
       "      <td>81.0</td>\n",
       "    </tr>\n",
       "    <tr>\n",
       "      <th>2012-01-13</th>\n",
       "      <td>57.0</td>\n",
       "      <td>67.254545</td>\n",
       "      <td>77.0</td>\n",
       "    </tr>\n",
       "    <tr>\n",
       "      <th>2012-01-14</th>\n",
       "      <td>58.0</td>\n",
       "      <td>69.526316</td>\n",
       "      <td>77.0</td>\n",
       "    </tr>\n",
       "    <tr>\n",
       "      <th>2012-01-15</th>\n",
       "      <td>56.0</td>\n",
       "      <td>69.313725</td>\n",
       "      <td>78.0</td>\n",
       "    </tr>\n",
       "    <tr>\n",
       "      <th>2012-01-16</th>\n",
       "      <td>54.0</td>\n",
       "      <td>68.629630</td>\n",
       "      <td>80.0</td>\n",
       "    </tr>\n",
       "    <tr>\n",
       "      <th>2012-01-17</th>\n",
       "      <td>61.0</td>\n",
       "      <td>69.074074</td>\n",
       "      <td>76.0</td>\n",
       "    </tr>\n",
       "    <tr>\n",
       "      <th>2012-01-18</th>\n",
       "      <td>57.0</td>\n",
       "      <td>68.631579</td>\n",
       "      <td>77.0</td>\n",
       "    </tr>\n",
       "    <tr>\n",
       "      <th>2012-01-19</th>\n",
       "      <td>60.0</td>\n",
       "      <td>68.263158</td>\n",
       "      <td>78.0</td>\n",
       "    </tr>\n",
       "    <tr>\n",
       "      <th>2012-01-20</th>\n",
       "      <td>61.0</td>\n",
       "      <td>68.866667</td>\n",
       "      <td>78.0</td>\n",
       "    </tr>\n",
       "  </tbody>\n",
       "</table>\n",
       "</div>"
      ]
     },
     "metadata": {},
     "execution_count": 18
    }
   ],
   "metadata": {}
  },
  {
   "cell_type": "code",
   "execution_count": 19,
   "source": [
    "# Plot the daily normals as an area plot with `stacked=False`\n",
    "\n",
    "# Plotting ans Area chart\n",
    "ax = pd_trip.plot.area(linewidth=0, colormap=\"Accent\",figsize=(15, 10),                                \n",
    "                       stacked=False,                                  \n",
    "                       title='TRIP DATE RANGES WITH TEMPERATURES', \n",
    "                       ylim=(min(pd_trip['MIN TEMP'])-6, max(pd_trip['MAX TEMP'])+6)                                   )                                                          \n",
    "# Saving plot\n",
    "plt.savefig(\"output_figures/trip_date_ranges_temp.png\",transparent=False)\n",
    "plt.show()"
   ],
   "outputs": [
    {
     "output_type": "display_data",
     "data": {
      "text/plain": [
       "<Figure size 1080x720 with 1 Axes>"
      ],
      "image/png": "[encoded data removed]"
     },
     "metadata": {}
    }
   ],
   "metadata": {}
  },
  {
   "cell_type": "markdown",
   "source": [
    "## Close Session"
   ],
   "metadata": {}
  },
  {
   "cell_type": "code",
   "execution_count": 20,
   "source": [
    "# Close Session\n",
    "session.close()"
   ],
   "outputs": [],
   "metadata": {}
  }
 ],
 "metadata": {
  "kernelspec": {
   "display_name": "Python 3",
   "language": "python",
   "name": "python3"
  },
  "language_info": {
   "codemirror_mode": {
    "name": "ipython",
    "version": 3
   },
   "file_extension": ".py",
   "mimetype": "text/x-python",
   "name": "python",
   "nbconvert_exporter": "python",
   "pygments_lexer": "ipython3",
   "version": "3.8.5"
  }
 },
 "nbformat": 4,
 "nbformat_minor": 4
}